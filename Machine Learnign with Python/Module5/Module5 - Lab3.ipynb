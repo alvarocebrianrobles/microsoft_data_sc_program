{
 "cells": [
  {
   "cell_type": "markdown",
   "metadata": {},
   "source": [
    "# DAT210x - Programming with Python for DS"
   ]
  },
  {
   "cell_type": "markdown",
   "metadata": {},
   "source": [
    "## Module5- Lab3"
   ]
  },
  {
   "cell_type": "code",
   "execution_count": 2,
   "metadata": {
    "collapsed": true
   },
   "outputs": [],
   "source": [
    "import pandas as pd\n",
    "from datetime import timedelta\n",
    "import matplotlib.pyplot as plt\n",
    "import matplotlib\n",
    "\n",
    "matplotlib.style.use('ggplot') # Look Pretty"
   ]
  },
  {
   "cell_type": "markdown",
   "metadata": {},
   "source": [
    "A convenience function for you to use:"
   ]
  },
  {
   "cell_type": "code",
   "execution_count": 3,
   "metadata": {},
   "outputs": [],
   "source": [
    "def clusterInfo(model):\n",
    "    print(\"Cluster Analysis Inertia: \", model.inertia_)\n",
    "    print('------------------------------------------')\n",
    "    \n",
    "    for i in range(len(model.cluster_centers_)):\n",
    "        print(\"\\n  Cluster \", i)\n",
    "        print(\"    Centroid \", model.cluster_centers_[i])\n",
    "        print(\"    #Samples \", (model.labels_==i).sum()) # NumPy Power"
   ]
  },
  {
   "cell_type": "code",
   "execution_count": 4,
   "metadata": {
    "collapsed": true
   },
   "outputs": [],
   "source": [
    "# Find the cluster with the least # attached nodes\n",
    "def clusterWithFewestSamples(model):\n",
    "    # Ensure there's at least on cluster...\n",
    "    minSamples = len(model.labels_)\n",
    "    minCluster = 0\n",
    "    \n",
    "    for i in range(len(model.cluster_centers_)):\n",
    "        if minSamples > (model.labels_==i).sum():\n",
    "            minCluster = i\n",
    "            minSamples = (model.labels_==i).sum()\n",
    "\n",
    "    print(\"\\n  Cluster With Fewest Samples: \", minCluster)\n",
    "    return (model.labels_==minCluster)"
   ]
  },
  {
   "cell_type": "markdown",
   "metadata": {
    "collapsed": true
   },
   "source": [
    "### CDRs"
   ]
  },
  {
   "cell_type": "markdown",
   "metadata": {
    "collapsed": true
   },
   "source": [
    "A [call detail record](https://en.wikipedia.org/wiki/Call_detail_record) (CDR) is a data record produced by a telephone exchange or other telecommunications equipment that documents the details of a telephone call or other telecommunications transaction (e.g., text message) that passes through that facility or device.\n",
    "\n",
    "The record contains various attributes of the call, such as time, duration, completion status, source number, and destination number. It is the automated equivalent of the paper toll tickets that were written and timed by operators for long-distance calls in a manual telephone exchange.\n",
    "\n",
    "The dataset we've curated for you contains call records for 10 people, tracked over the course of 3 years. Your job in this assignment is to find out where each of these people likely live and where they work at!\n",
    "\n",
    "Start by loading up the dataset and taking a peek at its `head` and `dtypes`. You can convert date-strings to real date-time objects using `pd.to_datetime`, and the times using `pd.to_timedelta`:"
   ]
  },
  {
   "cell_type": "code",
   "execution_count": 5,
   "metadata": {},
   "outputs": [],
   "source": [
    "df = pd.read_csv('Datasets/CDR.csv')\n",
    "df.CallDate = pd.to_datetime(df.CallDate, errors='coerce')\n",
    "df.CallTime = pd.to_timedelta(df.CallTime, errors='coerce')\n",
    "df.Duration = pd.to_timedelta(df.Duration, errors='coerce')"
   ]
  },
  {
   "cell_type": "markdown",
   "metadata": {},
   "source": [
    "Create a unique list of the phone number values (people) stored in the `In` column of the dataset, and save them in a regular python list called `unique_numbers`. Manually check through `unique_numbers` to ensure the order the numbers appear is the same order they (uniquely) appear in your dataset:"
   ]
  },
  {
   "cell_type": "code",
   "execution_count": 8,
   "metadata": {},
   "outputs": [
    {
     "name": "stdout",
     "output_type": "stream",
     "text": [
      "[4638472273, 1559410755, 4931532174, 2419930464, 1884182865, 3688089071, 4555003213, 2068627935, 2894365987, 8549533077]\n",
      "[4638472273 1559410755 4931532174 2419930464 1884182865 3688089071\n",
      " 4555003213 2068627935 2894365987 8549533077]\n"
     ]
    }
   ],
   "source": [
    "unique_numbers = df.In.unique().tolist()\n",
    "list_numbers = df.In.unique()\n",
    "print(unique_numbers)\n",
    "print(list_numbers)"
   ]
  },
  {
   "cell_type": "markdown",
   "metadata": {},
   "source": [
    "Using some domain expertise, your intuition should direct you to know that people are likely to behave differently on weekends vs on weekdays:\n",
    "\n",
    "#### On Weekends\n",
    "1. People probably don't go into work\n",
    "1. They probably sleep in late on Saturday\n",
    "1. They probably run a bunch of random errands, since they couldn't during the week\n",
    "1. They should be home, at least during the very late hours, e.g. 1-4 AM\n",
    "\n",
    "#### On Weekdays\n",
    "1. People probably are at work during normal working hours\n",
    "1. They probably are at home in the early morning and during the late night\n",
    "1. They probably spend time commuting between work and home everyday"
   ]
  },
  {
   "cell_type": "code",
   "execution_count": 189,
   "metadata": {},
   "outputs": [
    {
     "name": "stdout",
     "output_type": "stream",
     "text": [
      "Examining person:  8\n"
     ]
    }
   ],
   "source": [
    "print(\"Examining person: \", 8)"
   ]
  },
  {
   "cell_type": "markdown",
   "metadata": {
    "collapsed": true
   },
   "source": [
    "Create a slice called `user1` that filters to only include dataset records where the `In` feature (user phone number) is equal to the first number on your unique list above:"
   ]
  },
  {
   "cell_type": "code",
   "execution_count": 180,
   "metadata": {},
   "outputs": [
    {
     "name": "stdout",
     "output_type": "stream",
     "text": [
      "            In         Out Direction   CallDate        CallTime  DOW  \\\n",
      "54  2894365987  7216979669    Missed 2010-12-25 20:22:54.050635  Sat   \n",
      "55  2894365987  7310853860  Incoming 2010-12-25 20:49:54.149170  Sat   \n",
      "56  2894365987  3922966733  Incoming 2010-12-25 22:16:09.034602  Sat   \n",
      "57  2894365987  7310853860  Incoming 2010-12-25 18:53:44.140771  Sat   \n",
      "58  2894365987  9438365642  Incoming 2010-12-25 21:03:54.219010  Sat   \n",
      "\n",
      "          Duration                               TowerID   TowerLat   TowerLon  \n",
      "54 00:05:04.529572  fd8be326-fe13-43c4-b040-c4d0a79f1bc7  32.773611 -96.813611  \n",
      "55 00:05:32.268988  fd8be326-fe13-43c4-b040-c4d0a79f1bc7  32.773611 -96.813611  \n",
      "56 00:03:19.924689  7ea8225d-7ce1-407e-b151-637b9cc2868a  32.779167 -96.805000  \n",
      "57 00:03:51.913510  113cbb89-a693-4702-a563-c0b5b30076d3  32.768861 -96.811000  \n",
      "58 00:03:15.950917  583c5185-f9ad-406b-a986-4e0bff20f10a  32.773611 -96.813611  \n"
     ]
    }
   ],
   "source": [
    "user1 = df[df.In == unique_numbers[8]]\n",
    "print(user1.head())"
   ]
  },
  {
   "cell_type": "markdown",
   "metadata": {},
   "source": [
    "Alter your slice so that it includes only Weekday (Mon-Fri) values:"
   ]
  },
  {
   "cell_type": "code",
   "execution_count": 181,
   "metadata": {},
   "outputs": [
    {
     "name": "stdout",
     "output_type": "stream",
     "text": [
      "             In         Out Direction   CallDate        CallTime  DOW  \\\n",
      "278  2894365987  4570680769    Missed 2010-12-29 19:25:02.467081  Wed   \n",
      "279  2894365987   616374815  Incoming 2010-12-29 19:26:20.314938  Wed   \n",
      "280  2894365987   641312305  Incoming 2010-12-29 09:20:40.138450  Wed   \n",
      "281  2894365987  3348173258    Missed 2010-12-29 20:03:03.133057  Wed   \n",
      "282  2894365987   616374815  Incoming 2010-12-29 09:04:39.791627  Wed   \n",
      "\n",
      "           Duration                               TowerID   TowerLat  \\\n",
      "278 00:11:14.725938  b510a3a2-95f6-43dd-afe1-777c468df56a  32.700667   \n",
      "279 00:14:02.668387  583c5185-f9ad-406b-a986-4e0bff20f10a  32.773611   \n",
      "280 00:11:01.864134  fbb206b6-e592-4257-b88f-e279773e9c24  32.721944   \n",
      "281 00:11:50.739623  fd8be326-fe13-43c4-b040-c4d0a79f1bc7  32.773611   \n",
      "282 00:13:51.398401  8f8c676c-e676-41eb-b698-26142e84a20b  32.721944   \n",
      "\n",
      "      TowerLon  \n",
      "278 -96.914722  \n",
      "279 -96.813611  \n",
      "280 -96.892222  \n",
      "281 -96.813611  \n",
      "282 -96.892222  \n"
     ]
    }
   ],
   "source": [
    "user1 = user1[(user1.DOW != 'Sat') & (user1.DOW != 'Sun')]\n",
    "print(user1.head())"
   ]
  },
  {
   "cell_type": "markdown",
   "metadata": {},
   "source": [
    "The idea is that the call was placed before 5pm. From Midnight-730a, the user is probably sleeping and won't call / wake up to take a call. There should be a brief time in the morning during their commute to work, then they'll spend the entire day at work. So the assumption is that most of the time is spent either at work, or in 2nd, at home:"
   ]
  },
  {
   "cell_type": "code",
   "execution_count": 182,
   "metadata": {},
   "outputs": [
    {
     "name": "stdout",
     "output_type": "stream",
     "text": [
      "             In         Out Direction   CallDate        CallTime  DOW  \\\n",
      "280  2894365987   641312305  Incoming 2010-12-29 09:20:40.138450  Wed   \n",
      "282  2894365987   616374815  Incoming 2010-12-29 09:04:39.791627  Wed   \n",
      "284  2894365987   265146067  Incoming 2010-12-29 12:46:21.748180  Wed   \n",
      "286  2894365987  4009221772  Incoming 2010-12-29 10:07:44.700722  Wed   \n",
      "290  2894365987  5070881310    Missed 2010-12-29 16:33:37.907837  Wed   \n",
      "\n",
      "           Duration                               TowerID   TowerLat  \\\n",
      "280 00:11:01.864134  fbb206b6-e592-4257-b88f-e279773e9c24  32.721944   \n",
      "282 00:13:51.398401  8f8c676c-e676-41eb-b698-26142e84a20b  32.721944   \n",
      "284 00:12:13.438433  8f8c676c-e676-41eb-b698-26142e84a20b  32.721944   \n",
      "286 00:12:29.344360  8f8c676c-e676-41eb-b698-26142e84a20b  32.721944   \n",
      "290 00:10:48.379171  282d497a-034e-4423-b9aa-5f61c05d1d11  32.721944   \n",
      "\n",
      "      TowerLon  \n",
      "280 -96.892222  \n",
      "282 -96.892222  \n",
      "284 -96.892222  \n",
      "286 -96.892222  \n",
      "290 -96.892222  \n"
     ]
    }
   ],
   "source": [
    "user1 = user1[(user1.CallTime < '17:00:00') & (user1.CallTime > '07:30:00')]\n",
    "print(user1.head())"
   ]
  },
  {
   "cell_type": "markdown",
   "metadata": {},
   "source": [
    "Plot the Cell Towers the user connected to"
   ]
  },
  {
   "cell_type": "code",
   "execution_count": 183,
   "metadata": {},
   "outputs": [
    {
     "data": {
      "image/png": "[encoded data removed]",
      "text/plain": [
       "<matplotlib.figure.Figure at 0x1a219a0e48>"
      ]
     },
     "metadata": {},
     "output_type": "display_data"
    }
   ],
   "source": [
    "fig = plt.figure()\n",
    "ax = fig.add_subplot(111)\n",
    "ax.scatter(user1.TowerLat,user1.TowerLon, c='g', marker='o', alpha=0.2)\n",
    "ax.set_title('Weekdays Calls (< 5 pm)')\n",
    "plt.show()"
   ]
  },
  {
   "cell_type": "code",
   "execution_count": 184,
   "metadata": {
    "collapsed": true
   },
   "outputs": [],
   "source": [
    "def doKMeans(data, num_clusters=0):\n",
    "    # TODO: Be sure to only feed in Lat and Lon coordinates to the KMeans algo, since none of the other\n",
    "    # data is suitable for your purposes. Since both Lat and Lon are (approximately) on the same scale,\n",
    "    # no feature scaling is required. Print out the centroid locations and add them onto your scatter\n",
    "    # plot. Use a distinguishable marker and color.\n",
    "    #\n",
    "    # Hint: Make sure you fit ONLY the coordinates, and in the CORRECT order (lat first). This is part\n",
    "    # of your domain expertise. Also, *YOU* need to create, initialize (and return) the variable named\n",
    "    # `model` here, which will be a SKLearn K-Means model for this to work:\n",
    "    \n",
    "    from sklearn.cluster import KMeans\n",
    "    \n",
    "    model = KMeans(n_clusters = num_clusters)\n",
    "    \n",
    "    data = data[['TowerLat', 'TowerLon']]\n",
    "    model.fit(data)\n",
    "    \n",
    "    labels = model.predict(data)\n",
    "    centroids = model.cluster_centers_\n",
    "    print(centroids)\n",
    "    \n",
    "    fig = plt.figure()\n",
    "    ax = fig.add_subplot(111)\n",
    "    ax.scatter(data.TowerLat, data.TowerLon, marker='.', alpha=0.3)\n",
    "    ax.scatter(centroids[:,0], centroids[:,1], marker='x', c='blue', alpha=0.5, linewidths=3, s=169)\n",
    "    \n",
    "    return model"
   ]
  },
  {
   "cell_type": "markdown",
   "metadata": {},
   "source": [
    "Let's tun K-Means with `K=3` or `K=4`. There really should only be a two areas of concentration. If you notice multiple areas that are \"hot\" (multiple areas the user spends a lot of time at that are FAR apart from one another), then increase K=5, with the goal being that all centroids except two will sweep up the annoying outliers and not-home, not-work travel occasions. the other two will zero in on the user's approximate home location and work locations. Or rather the location of the cell tower closest to them....."
   ]
  },
  {
   "cell_type": "code",
   "execution_count": 185,
   "metadata": {},
   "outputs": [
    {
     "name": "stdout",
     "output_type": "stream",
     "text": [
      "[[ 32.72167395 -96.89200578]\n",
      " [ 32.741889   -96.857611  ]\n",
      " [ 32.717667   -96.875194  ]]\n"
     ]
    }
   ],
   "source": [
    "model = doKMeans(user1, 3)"
   ]
  },
  {
   "cell_type": "markdown",
   "metadata": {},
   "source": [
    "Print out the mean `CallTime` value for the samples belonging to the cluster with the LEAST samples attached to it. If our logic is correct, the cluster with the MOST samples will be work. The cluster with the 2nd most samples will be home. And the `K=3` cluster with the least samples should be somewhere in between the two. What time, on average, is the user in between home and work, between the midnight and 5pm?"
   ]
  },
  {
   "cell_type": "code",
   "execution_count": 186,
   "metadata": {},
   "outputs": [
    {
     "name": "stdout",
     "output_type": "stream",
     "text": [
      "\n",
      "  Cluster With Fewest Samples:  2\n",
      "    Its Waypoint Time:  0 days 07:49:08.500296\n"
     ]
    }
   ],
   "source": [
    "midWayClusterIndices = clusterWithFewestSamples(model)\n",
    "midWaySamples = user1[midWayClusterIndices]\n",
    "print(\"    Its Waypoint Time: \", midWaySamples.CallTime.mean())"
   ]
  },
  {
   "cell_type": "markdown",
   "metadata": {},
   "source": [
    "Let's visualize the results! First draw the X's for the clusters:"
   ]
  },
  {
   "cell_type": "code",
   "execution_count": 187,
   "metadata": {},
   "outputs": [
    {
     "data": {
      "image/png": "[encoded data removed]",
      "text/plain": [
       "<matplotlib.figure.Figure at 0x116af5668>"
      ]
     },
     "metadata": {},
     "output_type": "display_data"
    }
   ],
   "source": [
    "ax.scatter(model.cluster_centers_[:,1], model.cluster_centers_[:,0], s=169, c='r', marker='x', alpha=0.8, linewidths=2)\n",
    "ax.set_title('Weekday Calls Centroids')\n",
    "\n",
    "plt.show()"
   ]
  },
  {
   "cell_type": "code",
   "execution_count": 188,
   "metadata": {},
   "outputs": [
    {
     "name": "stdout",
     "output_type": "stream",
     "text": [
      "Cluster Analysis Inertia:  0.0186478636248\n",
      "------------------------------------------\n",
      "\n",
      "  Cluster  0\n",
      "    Centroid  [ 32.72167395 -96.89200578]\n",
      "    #Samples  3282\n",
      "\n",
      "  Cluster  1\n",
      "    Centroid  [ 32.741889 -96.857611]\n",
      "    #Samples  292\n",
      "\n",
      "  Cluster  2\n",
      "    Centroid  [ 32.717667 -96.875194]\n",
      "    #Samples  177\n"
     ]
    }
   ],
   "source": [
    "clusterInfo(model)"
   ]
  },
  {
   "cell_type": "code",
   "execution_count": null,
   "metadata": {
    "collapsed": true
   },
   "outputs": [],
   "source": []
  },
  {
   "cell_type": "code",
   "execution_count": null,
   "metadata": {
    "collapsed": true
   },
   "outputs": [],
   "source": []
  }
 ],
 "metadata": {
  "anaconda-cloud": {},
  "kernelspec": {
   "display_name": "Python 3",
   "language": "python",
   "name": "python3"
  },
  "language_info": {
   "codemirror_mode": {
    "name": "ipython",
    "version": 3
   },
   "file_extension": ".py",
   "mimetype": "text/x-python",
   "name": "python",
   "nbconvert_exporter": "python",
   "pygments_lexer": "ipython3",
   "version": "3.6.3"
  },
  "toc": {
   "colors": {
    "hover_highlight": "#DAA520",
    "running_highlight": "#FF0000",
    "selected_highlight": "#FFD700"
   },
   "moveMenuLeft": true,
   "nav_menu": {
    "height": "58px",
    "width": "252px"
   },
   "navigate_menu": true,
   "number_sections": true,
   "sideBar": true,
   "threshold": 4,
   "toc_cell": false,
   "toc_section_display": "block",
   "toc_window_display": false,
   "widenNotebook": false
  }
 },
 "nbformat": 4,
 "nbformat_minor": 2
}
