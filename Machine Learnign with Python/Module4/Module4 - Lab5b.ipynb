{
 "cells": [
  {
   "cell_type": "markdown",
   "metadata": {},
   "source": [
    "# DAT210x - Programming with Python for DS"
   ]
  },
  {
   "cell_type": "markdown",
   "metadata": {},
   "source": [
    "## Module4- Lab5"
   ]
  },
  {
   "cell_type": "code",
   "execution_count": 13,
   "metadata": {
    "collapsed": true
   },
   "outputs": [],
   "source": [
    "import pandas as pd\n",
    "\n",
    "from scipy import misc\n",
    "from mpl_toolkits.mplot3d import Axes3D\n",
    "import matplotlib\n",
    "import matplotlib.pyplot as plt"
   ]
  },
  {
   "cell_type": "code",
   "execution_count": 14,
   "metadata": {
    "collapsed": true
   },
   "outputs": [],
   "source": [
    "# Look pretty...\n",
    "\n",
    "# matplotlib.style.use('ggplot')\n",
    "plt.style.use('ggplot')"
   ]
  },
  {
   "cell_type": "markdown",
   "metadata": {
    "collapsed": true
   },
   "source": [
    "Create a regular Python list (not NDArray) and name it `samples`:"
   ]
  },
  {
   "cell_type": "code",
   "execution_count": 15,
   "metadata": {
    "collapsed": true
   },
   "outputs": [],
   "source": [
    "samples = []\n",
    "# This is for Lab5b\n",
    "colors = []"
   ]
  },
  {
   "cell_type": "markdown",
   "metadata": {
    "collapsed": true
   },
   "source": [
    "Code up a for-loop that iterates over the images in the `Datasets/ALOI/32/` folder. Look in the folder first, so you know how the files are organized, and what file number they start from and end at.\n",
    "\n",
    "Load each `.png` file individually in your for-loop using the instructions provided in the Graphical Feature reading. Once loaded, flatten the image into a single-dimensional NDArray and append it to your `samples` list.\n",
    "\n",
    "**Optional**: You can resample the image down by a factor of two if you have a slower computer. You can also scale the image from `0-255` to `0.0-1.0` if you'd like--doing so shouldn't have any effect on the algorithm's results."
   ]
  },
  {
   "cell_type": "code",
   "execution_count": 16,
   "metadata": {},
   "outputs": [],
   "source": [
    "# Looking at the documentation this is the for loop they gave us:\n",
    "\"\"\"\n",
    "for fname in files:\n",
    "  img = misc.imread(fname)\n",
    "  dset.append(  (img[::2, ::2] / 255.0).reshape(-1)  )\n",
    "\"\"\"\n",
    "\n",
    "# rango de 0 a 360 saltando de 5 en 5: (0, 360, 5)\n",
    "# \n",
    "for i in range(0,360,5): \n",
    "    img = misc.imread('Datasets/ALOI/32/32_r{0}.png'.format(i))\n",
    "    samples.append((img/255.0).reshape(-1))\n",
    "    colors.append('b')\n",
    "\n",
    "# This is for Lab5b\n",
    "for i in range(110,230,10): \n",
    "    img2 = misc.imread('Datasets/ALOI/32i/32_i{0}.png'.format(i))\n",
    "    samples.append((img2/255.0).reshape(-1))\n",
    "    colors.append('r')"
   ]
  },
  {
   "cell_type": "markdown",
   "metadata": {
    "collapsed": true
   },
   "source": [
    "Convert `samples` to a DataFrame named `df`:"
   ]
  },
  {
   "cell_type": "code",
   "execution_count": 17,
   "metadata": {},
   "outputs": [
    {
     "name": "stdout",
     "output_type": "stream",
     "text": [
      "       0         1         2         3         4         5         6      \\\n",
      "0   0.015686  0.015686  0.015686  0.011765  0.011765  0.011765  0.011765   \n",
      "1   0.015686  0.015686  0.015686  0.015686  0.015686  0.015686  0.015686   \n",
      "2   0.015686  0.015686  0.015686  0.011765  0.015686  0.015686  0.011765   \n",
      "3   0.015686  0.015686  0.015686  0.015686  0.015686  0.015686  0.011765   \n",
      "4   0.015686  0.015686  0.015686  0.019608  0.015686  0.015686  0.015686   \n",
      "5   0.015686  0.015686  0.015686  0.015686  0.015686  0.015686  0.015686   \n",
      "6   0.015686  0.015686  0.015686  0.015686  0.015686  0.015686  0.015686   \n",
      "7   0.015686  0.015686  0.015686  0.015686  0.015686  0.015686  0.015686   \n",
      "8   0.015686  0.015686  0.015686  0.019608  0.015686  0.015686  0.015686   \n",
      "9   0.015686  0.015686  0.015686  0.015686  0.015686  0.015686  0.015686   \n",
      "10  0.015686  0.015686  0.015686  0.015686  0.015686  0.015686  0.015686   \n",
      "11  0.015686  0.015686  0.015686  0.015686  0.015686  0.015686  0.015686   \n",
      "12  0.015686  0.015686  0.015686  0.015686  0.015686  0.015686  0.015686   \n",
      "13  0.015686  0.015686  0.015686  0.015686  0.015686  0.015686  0.015686   \n",
      "14  0.015686  0.015686  0.015686  0.015686  0.015686  0.015686  0.015686   \n",
      "15  0.015686  0.015686  0.015686  0.015686  0.015686  0.015686  0.015686   \n",
      "16  0.015686  0.015686  0.015686  0.015686  0.015686  0.015686  0.015686   \n",
      "17  0.015686  0.015686  0.015686  0.015686  0.015686  0.015686  0.015686   \n",
      "18  0.015686  0.015686  0.015686  0.015686  0.015686  0.015686  0.015686   \n",
      "19  0.015686  0.015686  0.015686  0.015686  0.015686  0.015686  0.015686   \n",
      "20  0.015686  0.015686  0.015686  0.015686  0.015686  0.015686  0.015686   \n",
      "21  0.015686  0.015686  0.015686  0.015686  0.015686  0.015686  0.015686   \n",
      "22  0.015686  0.015686  0.015686  0.015686  0.015686  0.015686  0.015686   \n",
      "23  0.015686  0.015686  0.015686  0.015686  0.015686  0.015686  0.015686   \n",
      "24  0.015686  0.015686  0.015686  0.015686  0.015686  0.015686  0.015686   \n",
      "25  0.015686  0.015686  0.015686  0.015686  0.015686  0.015686  0.015686   \n",
      "26  0.015686  0.015686  0.015686  0.015686  0.015686  0.015686  0.015686   \n",
      "27  0.015686  0.015686  0.015686  0.015686  0.015686  0.015686  0.015686   \n",
      "28  0.015686  0.015686  0.015686  0.015686  0.015686  0.015686  0.015686   \n",
      "29  0.015686  0.015686  0.015686  0.015686  0.015686  0.015686  0.015686   \n",
      "..       ...       ...       ...       ...       ...       ...       ...   \n",
      "54  0.015686  0.015686  0.015686  0.015686  0.015686  0.015686  0.015686   \n",
      "55  0.015686  0.015686  0.015686  0.015686  0.015686  0.015686  0.015686   \n",
      "56  0.015686  0.015686  0.015686  0.015686  0.015686  0.015686  0.015686   \n",
      "57  0.015686  0.015686  0.015686  0.015686  0.015686  0.015686  0.015686   \n",
      "58  0.015686  0.015686  0.015686  0.015686  0.015686  0.015686  0.015686   \n",
      "59  0.015686  0.015686  0.015686  0.015686  0.015686  0.015686  0.015686   \n",
      "60  0.015686  0.015686  0.015686  0.015686  0.015686  0.015686  0.015686   \n",
      "61  0.015686  0.015686  0.015686  0.015686  0.015686  0.015686  0.015686   \n",
      "62  0.015686  0.015686  0.015686  0.015686  0.015686  0.015686  0.015686   \n",
      "63  0.015686  0.015686  0.015686  0.015686  0.015686  0.015686  0.015686   \n",
      "64  0.015686  0.015686  0.015686  0.015686  0.015686  0.015686  0.015686   \n",
      "65  0.015686  0.015686  0.015686  0.015686  0.015686  0.015686  0.015686   \n",
      "66  0.015686  0.015686  0.015686  0.015686  0.015686  0.015686  0.015686   \n",
      "67  0.015686  0.015686  0.015686  0.015686  0.015686  0.015686  0.015686   \n",
      "68  0.015686  0.015686  0.015686  0.015686  0.015686  0.015686  0.015686   \n",
      "69  0.019608  0.019608  0.015686  0.015686  0.015686  0.019608  0.015686   \n",
      "70  0.015686  0.015686  0.011765  0.011765  0.011765  0.015686  0.015686   \n",
      "71  0.015686  0.015686  0.015686  0.015686  0.011765  0.015686  0.015686   \n",
      "72  0.015686  0.015686  0.015686  0.015686  0.015686  0.015686  0.015686   \n",
      "73  0.015686  0.015686  0.015686  0.015686  0.015686  0.015686  0.015686   \n",
      "74  0.015686  0.015686  0.015686  0.015686  0.015686  0.015686  0.015686   \n",
      "75  0.015686  0.015686  0.015686  0.015686  0.015686  0.015686  0.015686   \n",
      "76  0.015686  0.015686  0.015686  0.015686  0.015686  0.015686  0.015686   \n",
      "77  0.015686  0.015686  0.015686  0.015686  0.015686  0.015686  0.015686   \n",
      "78  0.015686  0.015686  0.015686  0.015686  0.015686  0.015686  0.015686   \n",
      "79  0.015686  0.015686  0.015686  0.015686  0.015686  0.015686  0.015686   \n",
      "80  0.015686  0.015686  0.015686  0.015686  0.015686  0.015686  0.015686   \n",
      "81  0.015686  0.015686  0.015686  0.015686  0.015686  0.015686  0.015686   \n",
      "82  0.019608  0.015686  0.015686  0.015686  0.015686  0.015686  0.015686   \n",
      "83  0.015686  0.015686  0.015686  0.011765  0.015686  0.015686  0.011765   \n",
      "\n",
      "       7         8         9        ...        27638     27639     27640  \\\n",
      "0   0.011765  0.011765  0.011765    ...     0.047059  0.050980  0.050980   \n",
      "1   0.015686  0.015686  0.015686    ...     0.047059  0.047059  0.047059   \n",
      "2   0.011765  0.015686  0.015686    ...     0.047059  0.050980  0.050980   \n",
      "3   0.011765  0.015686  0.015686    ...     0.047059  0.047059  0.047059   \n",
      "4   0.015686  0.019608  0.019608    ...     0.047059  0.047059  0.047059   \n",
      "5   0.015686  0.015686  0.015686    ...     0.047059  0.047059  0.047059   \n",
      "6   0.015686  0.015686  0.015686    ...     0.047059  0.047059  0.047059   \n",
      "7   0.015686  0.015686  0.015686    ...     0.047059  0.047059  0.047059   \n",
      "8   0.015686  0.015686  0.015686    ...     0.047059  0.047059  0.050980   \n",
      "9   0.015686  0.015686  0.015686    ...     0.047059  0.050980  0.050980   \n",
      "10  0.015686  0.015686  0.015686    ...     0.047059  0.050980  0.047059   \n",
      "11  0.015686  0.015686  0.015686    ...     0.047059  0.047059  0.047059   \n",
      "12  0.015686  0.015686  0.015686    ...     0.047059  0.047059  0.047059   \n",
      "13  0.015686  0.015686  0.015686    ...     0.050980  0.050980  0.047059   \n",
      "14  0.015686  0.015686  0.015686    ...     0.047059  0.047059  0.050980   \n",
      "15  0.015686  0.015686  0.015686    ...     0.047059  0.047059  0.050980   \n",
      "16  0.015686  0.015686  0.015686    ...     0.043137  0.043137  0.043137   \n",
      "17  0.015686  0.015686  0.015686    ...     0.047059  0.047059  0.047059   \n",
      "18  0.015686  0.015686  0.015686    ...     0.047059  0.047059  0.047059   \n",
      "19  0.015686  0.015686  0.015686    ...     0.047059  0.047059  0.047059   \n",
      "20  0.015686  0.015686  0.015686    ...     0.047059  0.047059  0.047059   \n",
      "21  0.015686  0.015686  0.015686    ...     0.043137  0.043137  0.043137   \n",
      "22  0.015686  0.015686  0.015686    ...     0.043137  0.043137  0.047059   \n",
      "23  0.015686  0.015686  0.015686    ...     0.043137  0.043137  0.043137   \n",
      "24  0.015686  0.015686  0.015686    ...     0.047059  0.047059  0.047059   \n",
      "25  0.015686  0.015686  0.015686    ...     0.043137  0.043137  0.043137   \n",
      "26  0.015686  0.015686  0.015686    ...     0.043137  0.043137  0.047059   \n",
      "27  0.015686  0.015686  0.015686    ...     0.043137  0.043137  0.043137   \n",
      "28  0.015686  0.015686  0.015686    ...     0.043137  0.047059  0.047059   \n",
      "29  0.015686  0.015686  0.015686    ...     0.047059  0.043137  0.043137   \n",
      "..       ...       ...       ...    ...          ...       ...       ...   \n",
      "54  0.015686  0.015686  0.015686    ...     0.047059  0.047059  0.047059   \n",
      "55  0.015686  0.015686  0.015686    ...     0.047059  0.047059  0.047059   \n",
      "56  0.015686  0.015686  0.015686    ...     0.047059  0.047059  0.050980   \n",
      "57  0.015686  0.015686  0.015686    ...     0.050980  0.050980  0.050980   \n",
      "58  0.015686  0.015686  0.015686    ...     0.050980  0.050980  0.047059   \n",
      "59  0.015686  0.015686  0.015686    ...     0.047059  0.047059  0.047059   \n",
      "60  0.015686  0.015686  0.015686    ...     0.047059  0.047059  0.050980   \n",
      "61  0.015686  0.015686  0.015686    ...     0.050980  0.047059  0.047059   \n",
      "62  0.015686  0.015686  0.015686    ...     0.047059  0.047059  0.047059   \n",
      "63  0.015686  0.019608  0.019608    ...     0.047059  0.047059  0.047059   \n",
      "64  0.015686  0.015686  0.015686    ...     0.047059  0.047059  0.047059   \n",
      "65  0.015686  0.015686  0.015686    ...     0.050980  0.047059  0.047059   \n",
      "66  0.015686  0.015686  0.015686    ...     0.047059  0.047059  0.047059   \n",
      "67  0.015686  0.015686  0.019608    ...     0.047059  0.043137  0.043137   \n",
      "68  0.015686  0.015686  0.015686    ...     0.043137  0.043137  0.043137   \n",
      "69  0.015686  0.015686  0.015686    ...     0.047059  0.047059  0.047059   \n",
      "70  0.015686  0.015686  0.015686    ...     0.050980  0.050980  0.047059   \n",
      "71  0.011765  0.015686  0.015686    ...     0.047059  0.047059  0.047059   \n",
      "72  0.015686  0.015686  0.015686    ...     0.050980  0.050980  0.050980   \n",
      "73  0.015686  0.015686  0.015686    ...     0.050980  0.050980  0.054902   \n",
      "74  0.015686  0.015686  0.015686    ...     0.050980  0.050980  0.050980   \n",
      "75  0.015686  0.015686  0.015686    ...     0.062745  0.062745  0.062745   \n",
      "76  0.015686  0.015686  0.015686    ...     0.050980  0.050980  0.050980   \n",
      "77  0.015686  0.015686  0.015686    ...     0.047059  0.050980  0.047059   \n",
      "78  0.015686  0.015686  0.015686    ...     0.047059  0.047059  0.047059   \n",
      "79  0.015686  0.019608  0.019608    ...     0.047059  0.050980  0.050980   \n",
      "80  0.015686  0.015686  0.019608    ...     0.047059  0.047059  0.047059   \n",
      "81  0.015686  0.015686  0.015686    ...     0.047059  0.050980  0.050980   \n",
      "82  0.015686  0.015686  0.015686    ...     0.050980  0.050980  0.050980   \n",
      "83  0.011765  0.015686  0.015686    ...     0.047059  0.050980  0.050980   \n",
      "\n",
      "       27641     27642     27643     27644     27645     27646     27647  \n",
      "0   0.050980  0.047059  0.047059  0.047059  0.047059  0.047059  0.027451  \n",
      "1   0.047059  0.047059  0.047059  0.047059  0.047059  0.047059  0.027451  \n",
      "2   0.050980  0.047059  0.050980  0.047059  0.050980  0.050980  0.027451  \n",
      "3   0.047059  0.047059  0.047059  0.050980  0.050980  0.047059  0.027451  \n",
      "4   0.047059  0.047059  0.047059  0.047059  0.047059  0.047059  0.027451  \n",
      "5   0.043137  0.043137  0.047059  0.043137  0.043137  0.043137  0.027451  \n",
      "6   0.047059  0.047059  0.047059  0.047059  0.047059  0.043137  0.027451  \n",
      "7   0.047059  0.047059  0.047059  0.047059  0.047059  0.043137  0.023529  \n",
      "8   0.050980  0.047059  0.047059  0.047059  0.047059  0.047059  0.027451  \n",
      "9   0.054902  0.047059  0.047059  0.050980  0.050980  0.047059  0.027451  \n",
      "10  0.050980  0.047059  0.043137  0.047059  0.047059  0.047059  0.027451  \n",
      "11  0.043137  0.043137  0.043137  0.043137  0.043137  0.043137  0.023529  \n",
      "12  0.047059  0.047059  0.043137  0.043137  0.043137  0.047059  0.023529  \n",
      "13  0.047059  0.050980  0.050980  0.047059  0.047059  0.047059  0.027451  \n",
      "14  0.047059  0.047059  0.047059  0.047059  0.047059  0.047059  0.027451  \n",
      "15  0.050980  0.050980  0.050980  0.050980  0.050980  0.047059  0.027451  \n",
      "16  0.043137  0.043137  0.043137  0.043137  0.047059  0.047059  0.027451  \n",
      "17  0.043137  0.047059  0.047059  0.047059  0.047059  0.047059  0.027451  \n",
      "18  0.047059  0.050980  0.050980  0.047059  0.043137  0.043137  0.027451  \n",
      "19  0.047059  0.047059  0.047059  0.047059  0.043137  0.043137  0.027451  \n",
      "20  0.047059  0.047059  0.047059  0.043137  0.047059  0.043137  0.023529  \n",
      "21  0.047059  0.047059  0.043137  0.047059  0.047059  0.043137  0.027451  \n",
      "22  0.047059  0.043137  0.043137  0.043137  0.043137  0.043137  0.023529  \n",
      "23  0.043137  0.043137  0.043137  0.047059  0.043137  0.039216  0.023529  \n",
      "24  0.047059  0.050980  0.047059  0.043137  0.043137  0.043137  0.023529  \n",
      "25  0.047059  0.047059  0.043137  0.047059  0.047059  0.043137  0.023529  \n",
      "26  0.047059  0.043137  0.043137  0.043137  0.043137  0.043137  0.023529  \n",
      "27  0.043137  0.043137  0.043137  0.043137  0.043137  0.043137  0.023529  \n",
      "28  0.043137  0.047059  0.047059  0.043137  0.043137  0.043137  0.023529  \n",
      "29  0.043137  0.047059  0.047059  0.043137  0.043137  0.043137  0.023529  \n",
      "..       ...       ...       ...       ...       ...       ...       ...  \n",
      "54  0.047059  0.047059  0.047059  0.047059  0.047059  0.047059  0.027451  \n",
      "55  0.050980  0.047059  0.047059  0.047059  0.047059  0.047059  0.027451  \n",
      "56  0.047059  0.047059  0.047059  0.047059  0.047059  0.047059  0.027451  \n",
      "57  0.050980  0.050980  0.050980  0.050980  0.047059  0.043137  0.027451  \n",
      "58  0.050980  0.047059  0.050980  0.050980  0.050980  0.047059  0.027451  \n",
      "59  0.047059  0.047059  0.047059  0.047059  0.050980  0.047059  0.027451  \n",
      "60  0.050980  0.047059  0.047059  0.047059  0.047059  0.043137  0.023529  \n",
      "61  0.047059  0.047059  0.047059  0.047059  0.047059  0.043137  0.027451  \n",
      "62  0.047059  0.047059  0.047059  0.047059  0.047059  0.043137  0.027451  \n",
      "63  0.047059  0.047059  0.047059  0.047059  0.047059  0.047059  0.027451  \n",
      "64  0.047059  0.047059  0.043137  0.047059  0.047059  0.043137  0.027451  \n",
      "65  0.047059  0.047059  0.047059  0.047059  0.047059  0.047059  0.027451  \n",
      "66  0.047059  0.047059  0.047059  0.047059  0.047059  0.043137  0.027451  \n",
      "67  0.043137  0.043137  0.043137  0.043137  0.043137  0.043137  0.023529  \n",
      "68  0.047059  0.043137  0.043137  0.043137  0.043137  0.043137  0.023529  \n",
      "69  0.047059  0.047059  0.047059  0.047059  0.047059  0.047059  0.027451  \n",
      "70  0.047059  0.047059  0.047059  0.047059  0.047059  0.047059  0.027451  \n",
      "71  0.047059  0.050980  0.047059  0.047059  0.047059  0.043137  0.023529  \n",
      "72  0.050980  0.050980  0.050980  0.050980  0.050980  0.047059  0.027451  \n",
      "73  0.050980  0.050980  0.050980  0.050980  0.050980  0.047059  0.027451  \n",
      "74  0.050980  0.050980  0.050980  0.050980  0.050980  0.050980  0.027451  \n",
      "75  0.062745  0.062745  0.058824  0.058824  0.058824  0.058824  0.031373  \n",
      "76  0.050980  0.050980  0.050980  0.050980  0.050980  0.047059  0.027451  \n",
      "77  0.050980  0.050980  0.047059  0.047059  0.050980  0.043137  0.023529  \n",
      "78  0.047059  0.047059  0.047059  0.047059  0.047059  0.043137  0.027451  \n",
      "79  0.047059  0.047059  0.047059  0.050980  0.050980  0.047059  0.027451  \n",
      "80  0.047059  0.047059  0.047059  0.047059  0.050980  0.047059  0.027451  \n",
      "81  0.047059  0.047059  0.047059  0.047059  0.050980  0.047059  0.027451  \n",
      "82  0.050980  0.050980  0.047059  0.047059  0.050980  0.047059  0.027451  \n",
      "83  0.050980  0.047059  0.047059  0.047059  0.050980  0.047059  0.027451  \n",
      "\n",
      "[84 rows x 27648 columns]\n"
     ]
    }
   ],
   "source": [
    "df = pd.DataFrame(samples)\n",
    "    \n",
    "print(df)"
   ]
  },
  {
   "cell_type": "markdown",
   "metadata": {
    "collapsed": true
   },
   "source": [
    "Import any necessary libraries to perform Isomap here, reduce `df` down to three components and using `K=6` for your neighborhood size:"
   ]
  },
  {
   "cell_type": "code",
   "execution_count": 18,
   "metadata": {
    "collapsed": true
   },
   "outputs": [],
   "source": [
    "from sklearn import manifold\n",
    "\n",
    "iso = manifold.Isomap(n_neighbors=6, n_components=3)\n",
    "iso.fit(df)\n",
    "manifold = iso.transform(df)"
   ]
  },
  {
   "cell_type": "markdown",
   "metadata": {},
   "source": [
    "Create a 2D Scatter plot to graph your manifold. You can use either `'o'` or `'.'` as your marker. Graph the first two isomap components:"
   ]
  },
  {
   "cell_type": "code",
   "execution_count": 19,
   "metadata": {},
   "outputs": [
    {
     "data": {
      "image/png": "[encoded data removed]",
      "text/plain": [
       "<matplotlib.figure.Figure at 0x1816e96128>"
      ]
     },
     "metadata": {},
     "output_type": "display_data"
    }
   ],
   "source": [
    "def Plot2D(T, title, x, y):\n",
    "    # This method picks a bunch of random samples (images in your case)\n",
    "    # to plot onto the chart:\n",
    "    fig = plt.figure()\n",
    "    \n",
    "    ax = fig.add_subplot(111)\n",
    "    ax.set_title(title)\n",
    "    ax.set_xlabel('Component: {0}'.format(x))\n",
    "    ax.set_ylabel('Component: {0}'.format(y))\n",
    "    \n",
    "    x_size = (max(T[:,x]) - min(T[:,x])) * 0.08\n",
    "    y_size = (max(T[:,y]) - min(T[:,y])) * 0.08\n",
    "\n",
    "    # It also plots the full scatter:\n",
    "    ax.scatter(T[:,x],T[:,y], marker='o', alpha=0.7, c=colors)\n",
    "\n",
    "Plot2D(manifold, 'Isomap', 0, 1)\n",
    "plt.show()"
   ]
  },
  {
   "cell_type": "markdown",
   "metadata": {},
   "source": [
    "Chart a 3D Scatter plot to graph your manifold. You can use either `'o'` or `'.'` as your marker:"
   ]
  },
  {
   "cell_type": "code",
   "execution_count": 20,
   "metadata": {},
   "outputs": [
    {
     "data": {
      "image/png": "[encoded data removed]",
      "text/plain": [
       "<matplotlib.figure.Figure at 0x18170795c0>"
      ]
     },
     "metadata": {},
     "output_type": "display_data"
    }
   ],
   "source": [
    "def Plot3D(T, title, x, y, z):\n",
    "    # This method picks a bunch of random samples (images in your case)\n",
    "    # to plot onto the chart:\n",
    "    fig = plt.figure()\n",
    "    \n",
    "    ax = fig.add_subplot(111, projection='3d')\n",
    "    ax.set_title(title)\n",
    "    ax.set_xlabel('Component: {0}'.format(x))\n",
    "    ax.set_ylabel('Component: {0}'.format(y))\n",
    "    ax.set_zlabel('Component: {0}'.format(z))\n",
    "    \n",
    "    x_size = (max(T[:,x]) - min(T[:,x])) * 0.08\n",
    "    y_size = (max(T[:,y]) - min(T[:,y])) * 0.08\n",
    "    z_size = (max(T[:,z]) - min(T[:,z])) * 0.08\n",
    "\n",
    "    # It also plots the full scatter:\n",
    "    ax.scatter(T[:,x],T[:,y], T[:,z], marker='.',alpha=0.7, c=colors)\n",
    "    \n",
    "Plot3D(manifold, '3D Isomap', 0, 1, 2)\n",
    "plt.show()"
   ]
  },
  {
   "cell_type": "markdown",
   "metadata": {},
   "source": [
    "Answer the first two lab questions!"
   ]
  },
  {
   "cell_type": "markdown",
   "metadata": {},
   "source": [
    "Create another for loop. This time it should iterate over all the images in the `Datasets/ALOI/32_i` directory. Just like last time, load up each image, process them the way you did previously, and append them into your existing `samples` list:"
   ]
  },
  {
   "cell_type": "code",
   "execution_count": 21,
   "metadata": {},
   "outputs": [],
   "source": [
    "# Everything has been answered above"
   ]
  },
  {
   "cell_type": "markdown",
   "metadata": {
    "collapsed": true
   },
   "source": [
    "Convert `samples` to a DataFrame named `df`:"
   ]
  },
  {
   "cell_type": "code",
   "execution_count": null,
   "metadata": {
    "collapsed": true
   },
   "outputs": [],
   "source": [
    "# .. your code here .."
   ]
  },
  {
   "cell_type": "markdown",
   "metadata": {
    "collapsed": true
   },
   "source": [
    "Import any necessary libraries to perform Isomap here, reduce `df` down to three components and using `K=6` for your neighborhood size:"
   ]
  },
  {
   "cell_type": "code",
   "execution_count": null,
   "metadata": {
    "collapsed": true
   },
   "outputs": [],
   "source": [
    "# .. your code here .."
   ]
  },
  {
   "cell_type": "markdown",
   "metadata": {},
   "source": [
    "Create a 2D Scatter plot to graph your manifold. You can use either `'o'` or `'.'` as your marker. Graph the first two isomap components:"
   ]
  },
  {
   "cell_type": "code",
   "execution_count": null,
   "metadata": {
    "collapsed": true
   },
   "outputs": [],
   "source": [
    "# .. your code here .."
   ]
  },
  {
   "cell_type": "markdown",
   "metadata": {},
   "source": [
    "Chart a 3D Scatter plot to graph your manifold. You can use either `'o'` or `'.'` as your marker:"
   ]
  },
  {
   "cell_type": "code",
   "execution_count": null,
   "metadata": {
    "collapsed": true
   },
   "outputs": [],
   "source": [
    "# .. your code here .."
   ]
  },
  {
   "cell_type": "code",
   "execution_count": null,
   "metadata": {
    "collapsed": true
   },
   "outputs": [],
   "source": []
  }
 ],
 "metadata": {
  "anaconda-cloud": {},
  "kernelspec": {
   "display_name": "Python 3",
   "language": "python",
   "name": "python3"
  },
  "language_info": {
   "codemirror_mode": {
    "name": "ipython",
    "version": 3
   },
   "file_extension": ".py",
   "mimetype": "text/x-python",
   "name": "python",
   "nbconvert_exporter": "python",
   "pygments_lexer": "ipython3",
   "version": "3.6.3"
  },
  "toc": {
   "colors": {
    "hover_highlight": "#DAA520",
    "running_highlight": "#FF0000",
    "selected_highlight": "#FFD700"
   },
   "moveMenuLeft": true,
   "nav_menu": {
    "height": "58px",
    "width": "252px"
   },
   "navigate_menu": true,
   "number_sections": true,
   "sideBar": true,
   "threshold": 4,
   "toc_cell": false,
   "toc_section_display": "block",
   "toc_window_display": false,
   "widenNotebook": false
  }
 },
 "nbformat": 4,
 "nbformat_minor": 2
}
