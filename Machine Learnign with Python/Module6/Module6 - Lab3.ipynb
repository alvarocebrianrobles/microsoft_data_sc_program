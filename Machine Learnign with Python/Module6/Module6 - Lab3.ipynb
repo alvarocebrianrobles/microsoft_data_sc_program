{
 "cells": [
  {
   "cell_type": "markdown",
   "metadata": {},
   "source": [
    "# DAT210x - Programming with Python for DS"
   ]
  },
  {
   "cell_type": "markdown",
   "metadata": {},
   "source": [
    "## Module6- Lab3"
   ]
  },
  {
   "cell_type": "markdown",
   "metadata": {},
   "source": [
    "This code is intentionally missing! Read the directions on the course lab page!"
   ]
  },
  {
   "cell_type": "code",
   "execution_count": 1,
   "metadata": {
    "collapsed": true
   },
   "outputs": [],
   "source": [
    "import pandas as pd\n",
    "from sklearn.model_selection import train_test_split\n",
    "from sklearn.svm import SVC\n",
    "import numpy as np\n",
    "from sklearn import preprocessing\n",
    "from sklearn.decomposition import PCA\n",
    "from sklearn import manifold"
   ]
  },
  {
   "cell_type": "code",
   "execution_count": 2,
   "metadata": {},
   "outputs": [
    {
     "name": "stdout",
     "output_type": "stream",
     "text": [
      "                MDVP:Fo(Hz)  MDVP:Fhi(Hz)  MDVP:Flo(Hz)  MDVP:Jitter(%)  \\\n",
      "name                                                                      \n",
      "phon_R01_S01_1      119.992       157.302        74.997         0.00784   \n",
      "phon_R01_S01_2      122.400       148.650       113.819         0.00968   \n",
      "phon_R01_S01_3      116.682       131.111       111.555         0.01050   \n",
      "phon_R01_S01_4      116.676       137.871       111.366         0.00997   \n",
      "phon_R01_S01_5      116.014       141.781       110.655         0.01284   \n",
      "\n",
      "                MDVP:Jitter(Abs)  MDVP:RAP  MDVP:PPQ  Jitter:DDP  \\\n",
      "name                                                               \n",
      "phon_R01_S01_1           0.00007   0.00370   0.00554     0.01109   \n",
      "phon_R01_S01_2           0.00008   0.00465   0.00696     0.01394   \n",
      "phon_R01_S01_3           0.00009   0.00544   0.00781     0.01633   \n",
      "phon_R01_S01_4           0.00009   0.00502   0.00698     0.01505   \n",
      "phon_R01_S01_5           0.00011   0.00655   0.00908     0.01966   \n",
      "\n",
      "                MDVP:Shimmer  MDVP:Shimmer(dB)    ...     Shimmer:DDA  \\\n",
      "name                                              ...                   \n",
      "phon_R01_S01_1       0.04374             0.426    ...         0.06545   \n",
      "phon_R01_S01_2       0.06134             0.626    ...         0.09403   \n",
      "phon_R01_S01_3       0.05233             0.482    ...         0.08270   \n",
      "phon_R01_S01_4       0.05492             0.517    ...         0.08771   \n",
      "phon_R01_S01_5       0.06425             0.584    ...         0.10470   \n",
      "\n",
      "                    NHR     HNR  status      RPDE       DFA   spread1  \\\n",
      "name                                                                    \n",
      "phon_R01_S01_1  0.02211  21.033       1  0.414783  0.815285 -4.813031   \n",
      "phon_R01_S01_2  0.01929  19.085       1  0.458359  0.819521 -4.075192   \n",
      "phon_R01_S01_3  0.01309  20.651       1  0.429895  0.825288 -4.443179   \n",
      "phon_R01_S01_4  0.01353  20.644       1  0.434969  0.819235 -4.117501   \n",
      "phon_R01_S01_5  0.01767  19.649       1  0.417356  0.823484 -3.747787   \n",
      "\n",
      "                 spread2        D2       PPE  \n",
      "name                                          \n",
      "phon_R01_S01_1  0.266482  2.301442  0.284654  \n",
      "phon_R01_S01_2  0.335590  2.486855  0.368674  \n",
      "phon_R01_S01_3  0.311173  2.342259  0.332634  \n",
      "phon_R01_S01_4  0.334147  2.405554  0.368975  \n",
      "phon_R01_S01_5  0.234513  2.332180  0.410335  \n",
      "\n",
      "[5 rows x 23 columns]\n",
      "MDVP:Fo(Hz)         0\n",
      "MDVP:Fhi(Hz)        0\n",
      "MDVP:Flo(Hz)        0\n",
      "MDVP:Jitter(%)      0\n",
      "MDVP:Jitter(Abs)    0\n",
      "MDVP:RAP            0\n",
      "MDVP:PPQ            0\n",
      "Jitter:DDP          0\n",
      "MDVP:Shimmer        0\n",
      "MDVP:Shimmer(dB)    0\n",
      "Shimmer:APQ3        0\n",
      "Shimmer:APQ5        0\n",
      "MDVP:APQ            0\n",
      "Shimmer:DDA         0\n",
      "NHR                 0\n",
      "HNR                 0\n",
      "status              0\n",
      "RPDE                0\n",
      "DFA                 0\n",
      "spread1             0\n",
      "spread2             0\n",
      "D2                  0\n",
      "PPE                 0\n",
      "dtype: int64\n"
     ]
    }
   ],
   "source": [
    "X = pd.read_csv('Datasets/parkinsons.data', index_col=0)\n",
    "print(X.head())\n",
    "\n",
    "print(X.isnull().sum()) # There is no nans values."
   ]
  },
  {
   "cell_type": "code",
   "execution_count": 3,
   "metadata": {},
   "outputs": [],
   "source": [
    "y = X.status\n",
    "X = X.drop(['status'], axis=1)"
   ]
  },
  {
   "cell_type": "code",
   "execution_count": 4,
   "metadata": {},
   "outputs": [],
   "source": [
    "X_train, X_test, y_train, y_test = train_test_split(X, y, test_size=0.3, random_state=7)"
   ]
  },
  {
   "cell_type": "code",
   "execution_count": 5,
   "metadata": {
    "collapsed": true
   },
   "outputs": [],
   "source": [
    "T = preprocessing.StandardScaler().fit(X_train) #Best preprocessing method\n",
    "#T = preprocessing.MinMaxScaler().fit(X_train)\n",
    "#T = preprocessing.MaxAbsScaler().fit(X_train)\n",
    "#T = preprocessing.Normalizer().fit(X_train)\n",
    "#T = preprocessing.KernelCenterer().fit(X_train)"
   ]
  },
  {
   "cell_type": "code",
   "execution_count": 6,
   "metadata": {
    "collapsed": true
   },
   "outputs": [],
   "source": [
    "X_train = T.transform(X_train)\n",
    "X_test = T.transform(X_test)"
   ]
  },
  {
   "cell_type": "code",
   "execution_count": 7,
   "metadata": {
    "collapsed": true
   },
   "outputs": [],
   "source": [
    "# Change between PCA to Isomap:\n",
    "test = 'Isomap'"
   ]
  },
  {
   "cell_type": "code",
   "execution_count": 8,
   "metadata": {},
   "outputs": [],
   "source": [
    "if test == 'PCA':\n",
    "    # n_component values between 4 and 14.\n",
    "    pca = PCA(n_components=14, svd_solver='randomized')\n",
    "    pca.fit(X_train)\n",
    "\n",
    "    X_train = pca.transform(X_train)\n",
    "    X_test = pca.transform(X_test)\n",
    "    \n",
    "elif test == 'Isomap':\n",
    "    # n_neighbors between 2 and 5, and n_components between 4 and 6\n",
    "    isomap = manifold.Isomap(n_neighbors=5, n_components=6)\n",
    "    isomap.fit(X_train, y_train)\n",
    "    \n",
    "    X_train = isomap.transform(X_train)\n",
    "    X_test = isomap.transform(X_test)"
   ]
  },
  {
   "cell_type": "code",
   "execution_count": 9,
   "metadata": {},
   "outputs": [
    {
     "data": {
      "text/plain": [
       "SVC(C=1.0, cache_size=200, class_weight=None, coef0=0.0,\n",
       "  decision_function_shape='ovr', degree=3, gamma='auto', kernel='rbf',\n",
       "  max_iter=-1, probability=False, random_state=None, shrinking=True,\n",
       "  tol=0.001, verbose=False)"
      ]
     },
     "execution_count": 9,
     "metadata": {},
     "output_type": "execute_result"
    }
   ],
   "source": [
    "svc = SVC()\n",
    "svc.fit(X_train, y_train)"
   ]
  },
  {
   "cell_type": "code",
   "execution_count": 10,
   "metadata": {},
   "outputs": [
    {
     "name": "stdout",
     "output_type": "stream",
     "text": [
      "0.932203389831\n"
     ]
    }
   ],
   "source": [
    "score = svc.score(X_test, y_test)\n",
    "print(score)"
   ]
  },
  {
   "cell_type": "code",
   "execution_count": 11,
   "metadata": {},
   "outputs": [
    {
     "name": "stdout",
     "output_type": "stream",
     "text": [
      "0.949152542373 1.45 0.096\n"
     ]
    }
   ],
   "source": [
    "best_score=0\n",
    "\n",
    "for c in np.arange(0.05, 2, 0.05, dtype=float):\n",
    "    for g in np.arange(0.001, 0.1, 0.001, dtype=float):\n",
    "        model = SVC(C=c, gamma=g)\n",
    "        model.fit(X_train, y_train)\n",
    "        score = model.score(X_test, y_test)\n",
    "        if score > best_score:\n",
    "            best_score = score\n",
    "            best_C = c\n",
    "            best_gamma = g\n",
    "\n",
    "print(best_score, best_C, best_gamma)"
   ]
  },
  {
   "cell_type": "code",
   "execution_count": 12,
   "metadata": {
    "collapsed": true
   },
   "outputs": [],
   "source": [
    "# PCA n=5 –> 0.949152542373\n",
    "# Isomap n_n=4 n_c=4 –> 0.966101694915"
   ]
  }
 ],
 "metadata": {
  "anaconda-cloud": {},
  "kernelspec": {
   "display_name": "Python 3",
   "language": "python",
   "name": "python3"
  },
  "language_info": {
   "codemirror_mode": {
    "name": "ipython",
    "version": 3
   },
   "file_extension": ".py",
   "mimetype": "text/x-python",
   "name": "python",
   "nbconvert_exporter": "python",
   "pygments_lexer": "ipython3",
   "version": "3.6.3"
  },
  "toc": {
   "colors": {
    "hover_highlight": "#DAA520",
    "running_highlight": "#FF0000",
    "selected_highlight": "#FFD700"
   },
   "moveMenuLeft": true,
   "nav_menu": {
    "height": "58px",
    "width": "252px"
   },
   "navigate_menu": true,
   "number_sections": true,
   "sideBar": true,
   "threshold": 4,
   "toc_cell": false,
   "toc_section_display": "block",
   "toc_window_display": false,
   "widenNotebook": false
  }
 },
 "nbformat": 4,
 "nbformat_minor": 2
}
